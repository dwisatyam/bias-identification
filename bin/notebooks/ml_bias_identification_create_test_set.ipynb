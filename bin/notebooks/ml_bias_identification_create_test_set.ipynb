{
  "nbformat": 4,
  "nbformat_minor": 0,
  "metadata": {
    "colab": {
      "name": "ml-bias-identification-create-test-set.ipynb",
      "provenance": []
    },
    "kernelspec": {
      "name": "python3",
      "display_name": "Python 3"
    },
    "language_info": {
      "name": "python"
    }
  },
  "cells": [
    {
      "cell_type": "markdown",
      "metadata": {
        "id": "Q7s5SNrnL_VA"
      },
      "source": [
        "Test-set creation"
      ]
    },
    {
      "cell_type": "code",
      "metadata": {
        "colab": {
          "base_uri": "https://localhost:8080/"
        },
        "id": "4ZY92cmcpG54",
        "outputId": "c447979c-38c5-4b4a-c358-0814c26f5d6f"
      },
      "source": [
        "!git clone https://github.com/dwisatyam/ml-bias-identification.git"
      ],
      "execution_count": null,
      "outputs": [
        {
          "output_type": "stream",
          "name": "stdout",
          "text": [
            "Cloning into 'ml-bias-identification'...\n",
            "remote: Enumerating objects: 283, done.\u001b[K\n",
            "remote: Counting objects:   0% (1/283)\u001b[K\rremote: Counting objects:   1% (3/283)\u001b[K\rremote: Counting objects:   2% (6/283)\u001b[K\rremote: Counting objects:   3% (9/283)\u001b[K\rremote: Counting objects:   4% (12/283)\u001b[K\rremote: Counting objects:   5% (15/283)\u001b[K\rremote: Counting objects:   6% (17/283)\u001b[K\rremote: Counting objects:   7% (20/283)\u001b[K\rremote: Counting objects:   8% (23/283)\u001b[K\rremote: Counting objects:   9% (26/283)\u001b[K\rremote: Counting objects:  10% (29/283)\u001b[K\rremote: Counting objects:  11% (32/283)\u001b[K\rremote: Counting objects:  12% (34/283)\u001b[K\rremote: Counting objects:  13% (37/283)\u001b[K\rremote: Counting objects:  14% (40/283)\u001b[K\rremote: Counting objects:  15% (43/283)\u001b[K\rremote: Counting objects:  16% (46/283)\u001b[K\rremote: Counting objects:  17% (49/283)\u001b[K\rremote: Counting objects:  18% (51/283)\u001b[K\rremote: Counting objects:  19% (54/283)\u001b[K\rremote: Counting objects:  20% (57/283)\u001b[K\rremote: Counting objects:  21% (60/283)\u001b[K\rremote: Counting objects:  22% (63/283)\u001b[K\rremote: Counting objects:  23% (66/283)\u001b[K\rremote: Counting objects:  24% (68/283)\u001b[K\rremote: Counting objects:  25% (71/283)\u001b[K\rremote: Counting objects:  26% (74/283)\u001b[K\rremote: Counting objects:  27% (77/283)\u001b[K\rremote: Counting objects:  28% (80/283)\u001b[K\rremote: Counting objects:  29% (83/283)\u001b[K\rremote: Counting objects:  30% (85/283)\u001b[K\rremote: Counting objects:  31% (88/283)\u001b[K\rremote: Counting objects:  32% (91/283)\u001b[K\rremote: Counting objects:  33% (94/283)\u001b[K\rremote: Counting objects:  34% (97/283)\u001b[K\rremote: Counting objects:  35% (100/283)\u001b[K\rremote: Counting objects:  36% (102/283)\u001b[K\rremote: Counting objects:  37% (105/283)\u001b[K\rremote: Counting objects:  38% (108/283)\u001b[K\rremote: Counting objects:  39% (111/283)\u001b[K\rremote: Counting objects:  40% (114/283)\u001b[K\rremote: Counting objects:  41% (117/283)\u001b[K\rremote: Counting objects:  42% (119/283)\u001b[K\rremote: Counting objects:  43% (122/283)\u001b[K\rremote: Counting objects:  44% (125/283)\u001b[K\rremote: Counting objects:  45% (128/283)\u001b[K\rremote: Counting objects:  46% (131/283)\u001b[K\rremote: Counting objects:  47% (134/283)\u001b[K\rremote: Counting objects:  48% (136/283)\u001b[K\rremote: Counting objects:  49% (139/283)\u001b[K\rremote: Counting objects:  50% (142/283)\u001b[K\rremote: Counting objects:  51% (145/283)\u001b[K\rremote: Counting objects:  52% (148/283)\u001b[K\rremote: Counting objects:  53% (150/283)\u001b[K\rremote: Counting objects:  54% (153/283)\u001b[K\rremote: Counting objects:  55% (156/283)\u001b[K\rremote: Counting objects:  56% (159/283)\u001b[K\rremote: Counting objects:  57% (162/283)\u001b[K\rremote: Counting objects:  58% (165/283)\u001b[K\rremote: Counting objects:  59% (167/283)\u001b[K\rremote: Counting objects:  60% (170/283)\u001b[K\rremote: Counting objects:  61% (173/283)\u001b[K\rremote: Counting objects:  62% (176/283)\u001b[K\rremote: Counting objects:  63% (179/283)\u001b[K\rremote: Counting objects:  64% (182/283)\u001b[K\rremote: Counting objects:  65% (184/283)\u001b[K\rremote: Counting objects:  66% (187/283)\u001b[K\rremote: Counting objects:  67% (190/283)\u001b[K\rremote: Counting objects:  68% (193/283)\u001b[K\rremote: Counting objects:  69% (196/283)\u001b[K\rremote: Counting objects:  70% (199/283)\u001b[K\rremote: Counting objects:  71% (201/283)\u001b[K\rremote: Counting objects:  72% (204/283)\u001b[K\rremote: Counting objects:  73% (207/283)\u001b[K\rremote: Counting objects:  74% (210/283)\u001b[K\rremote: Counting objects:  75% (213/283)\u001b[K\rremote: Counting objects:  76% (216/283)\u001b[K\rremote: Counting objects:  77% (218/283)\u001b[K\rremote: Counting objects:  78% (221/283)\u001b[K\rremote: Counting objects:  79% (224/283)\u001b[K\rremote: Counting objects:  80% (227/283)\u001b[K\rremote: Counting objects:  81% (230/283)\u001b[K\rremote: Counting objects:  82% (233/283)\u001b[K\rremote: Counting objects:  83% (235/283)\u001b[K\rremote: Counting objects:  84% (238/283)\u001b[K\rremote: Counting objects:  85% (241/283)\u001b[K\rremote: Counting objects:  86% (244/283)\u001b[K\rremote: Counting objects:  87% (247/283)\u001b[K\rremote: Counting objects:  88% (250/283)\u001b[K\rremote: Counting objects:  89% (252/283)\u001b[K\rremote: Counting objects:  90% (255/283)\u001b[K\rremote: Counting objects:  91% (258/283)\u001b[K\rremote: Counting objects:  92% (261/283)\u001b[K\rremote: Counting objects:  93% (264/283)\u001b[K\rremote: Counting objects:  94% (267/283)\u001b[K\rremote: Counting objects:  95% (269/283)\u001b[K\rremote: Counting objects:  96% (272/283)\u001b[K\rremote: Counting objects:  97% (275/283)\u001b[K\rremote: Counting objects:  98% (278/283)\u001b[K\rremote: Counting objects:  99% (281/283)\u001b[K\rremote: Counting objects: 100% (283/283)\u001b[K\rremote: Counting objects: 100% (283/283), done.\u001b[K\n",
            "remote: Compressing objects:   0% (1/227)\u001b[K\rremote: Compressing objects:   1% (3/227)\u001b[K\rremote: Compressing objects:   2% (5/227)\u001b[K\rremote: Compressing objects:   3% (7/227)\u001b[K\rremote: Compressing objects:   4% (10/227)\u001b[K\rremote: Compressing objects:   5% (12/227)\u001b[K\rremote: Compressing objects:   6% (14/227)\u001b[K\rremote: Compressing objects:   7% (16/227)\u001b[K\rremote: Compressing objects:   8% (19/227)\u001b[K\rremote: Compressing objects:   9% (21/227)\u001b[K\rremote: Compressing objects:  10% (23/227)\u001b[K\rremote: Compressing objects:  11% (25/227)\u001b[K\rremote: Compressing objects:  12% (28/227)\u001b[K\rremote: Compressing objects:  13% (30/227)\u001b[K\rremote: Compressing objects:  14% (32/227)\u001b[K\rremote: Compressing objects:  15% (35/227)\u001b[K\rremote: Compressing objects:  16% (37/227)\u001b[K\rremote: Compressing objects:  17% (39/227)\u001b[K\rremote: Compressing objects:  18% (41/227)\u001b[K\rremote: Compressing objects:  19% (44/227)\u001b[K\rremote: Compressing objects:  20% (46/227)\u001b[K\rremote: Compressing objects:  21% (48/227)\u001b[K\rremote: Compressing objects:  22% (50/227)\u001b[K\rremote: Compressing objects:  23% (53/227)\u001b[K\rremote: Compressing objects:  24% (55/227)\u001b[K\rremote: Compressing objects:  25% (57/227)\u001b[K\rremote: Compressing objects:  26% (60/227)\u001b[K\rremote: Compressing objects:  27% (62/227)\u001b[K\rremote: Compressing objects:  28% (64/227)\u001b[K\rremote: Compressing objects:  29% (66/227)\u001b[K\rremote: Compressing objects:  30% (69/227)\u001b[K\rremote: Compressing objects:  31% (71/227)\u001b[K\rremote: Compressing objects:  32% (73/227)\u001b[K\rremote: Compressing objects:  33% (75/227)\u001b[K\rremote: Compressing objects:  34% (78/227)\u001b[K\rremote: Compressing objects:  35% (80/227)\u001b[K\rremote: Compressing objects:  36% (82/227)\u001b[K\rremote: Compressing objects:  37% (84/227)\u001b[K\rremote: Compressing objects:  38% (87/227)\u001b[K\rremote: Compressing objects:  39% (89/227)\u001b[K\rremote: Compressing objects:  40% (91/227)\u001b[K\rremote: Compressing objects:  41% (94/227)\u001b[K\rremote: Compressing objects:  42% (96/227)\u001b[K\rremote: Compressing objects:  43% (98/227)\u001b[K\rremote: Compressing objects:  44% (100/227)\u001b[K\rremote: Compressing objects:  45% (103/227)\u001b[K\rremote: Compressing objects:  46% (105/227)\u001b[K\rremote: Compressing objects:  47% (107/227)\u001b[K\rremote: Compressing objects:  48% (109/227)\u001b[K\rremote: Compressing objects:  49% (112/227)\u001b[K\rremote: Compressing objects:  50% (114/227)\u001b[K\rremote: Compressing objects:  51% (116/227)\u001b[K\rremote: Compressing objects:  52% (119/227)\u001b[K\rremote: Compressing objects:  53% (121/227)\u001b[K\rremote: Compressing objects:  54% (123/227)\u001b[K\rremote: Compressing objects:  55% (125/227)\u001b[K\rremote: Compressing objects:  56% (128/227)\u001b[K\rremote: Compressing objects:  57% (130/227)\u001b[K\rremote: Compressing objects:  58% (132/227)\u001b[K\rremote: Compressing objects:  59% (134/227)\u001b[K\rremote: Compressing objects:  60% (137/227)\u001b[K\rremote: Compressing objects:  61% (139/227)\u001b[K\rremote: Compressing objects:  62% (141/227)\u001b[K\rremote: Compressing objects:  63% (144/227)\u001b[K\rremote: Compressing objects:  64% (146/227)\u001b[K\rremote: Compressing objects:  65% (148/227)\u001b[K\rremote: Compressing objects:  66% (150/227)\u001b[K\rremote: Compressing objects:  67% (153/227)\u001b[K\rremote: Compressing objects:  68% (155/227)\u001b[K\rremote: Compressing objects:  69% (157/227)\u001b[K\rremote: Compressing objects:  70% (159/227)\u001b[K\rremote: Compressing objects:  71% (162/227)\u001b[K\rremote: Compressing objects:  72% (164/227)\u001b[K\rremote: Compressing objects:  73% (166/227)\u001b[K\rremote: Compressing objects:  74% (168/227)\u001b[K\rremote: Compressing objects:  75% (171/227)\u001b[K\rremote: Compressing objects:  76% (173/227)\u001b[K\rremote: Compressing objects:  77% (175/227)\u001b[K\rremote: Compressing objects:  78% (178/227)\u001b[K\rremote: Compressing objects:  79% (180/227)\u001b[K\rremote: Compressing objects:  80% (182/227)\u001b[K\rremote: Compressing objects:  81% (184/227)\u001b[K\rremote: Compressing objects:  82% (187/227)\u001b[K\rremote: Compressing objects:  83% (189/227)\u001b[K\rremote: Compressing objects:  84% (191/227)\u001b[K\rremote: Compressing objects:  85% (193/227)\u001b[K\rremote: Compressing objects:  86% (196/227)\u001b[K\rremote: Compressing objects:  87% (198/227)\u001b[K\rremote: Compressing objects:  88% (200/227)\u001b[K\rremote: Compressing objects:  89% (203/227)\u001b[K\rremote: Compressing objects:  90% (205/227)\u001b[K\rremote: Compressing objects:  91% (207/227)\u001b[K\rremote: Compressing objects:  92% (209/227)\u001b[K\rremote: Compressing objects:  93% (212/227)\u001b[K\rremote: Compressing objects:  94% (214/227)\u001b[K\rremote: Compressing objects:  95% (216/227)\u001b[K\rremote: Compressing objects:  96% (218/227)\u001b[K\rremote: Compressing objects:  97% (221/227)\u001b[K\rremote: Compressing objects:  98% (223/227)\u001b[K\rremote: Compressing objects:  99% (225/227)\u001b[K\rremote: Compressing objects: 100% (227/227)\u001b[K\rremote: Compressing objects: 100% (227/227), done.\u001b[K\n",
            "Receiving objects:   0% (1/283)   \rReceiving objects:   1% (3/283)   \rReceiving objects:   2% (6/283)   \rReceiving objects:   3% (9/283)   \rReceiving objects:   4% (12/283)   \rReceiving objects:   5% (15/283)   \rReceiving objects:   6% (17/283)   \rReceiving objects:   7% (20/283)   \rReceiving objects:   8% (23/283)   \rReceiving objects:   9% (26/283)   \rReceiving objects:  10% (29/283)   \rReceiving objects:  11% (32/283)   \rReceiving objects:  12% (34/283)   \rReceiving objects:  13% (37/283)   \rReceiving objects:  14% (40/283)   \rReceiving objects:  15% (43/283)   \rReceiving objects:  16% (46/283)   \rReceiving objects:  17% (49/283)   \rReceiving objects:  18% (51/283)   \rReceiving objects:  19% (54/283)   \rReceiving objects:  20% (57/283)   \rReceiving objects:  21% (60/283)   \rReceiving objects:  22% (63/283)   \rReceiving objects:  23% (66/283)   \rReceiving objects:  24% (68/283)   \rReceiving objects:  25% (71/283)   \rReceiving objects:  26% (74/283)   \rReceiving objects:  27% (77/283)   \rReceiving objects:  28% (80/283)   \rReceiving objects:  29% (83/283)   \rReceiving objects:  30% (85/283)   \rReceiving objects:  31% (88/283)   \rReceiving objects:  32% (91/283)   \rReceiving objects:  33% (94/283)   \rReceiving objects:  34% (97/283)   \rReceiving objects:  35% (100/283)   \rReceiving objects:  36% (102/283)   \rReceiving objects:  37% (105/283)   \rReceiving objects:  38% (108/283)   \rReceiving objects:  39% (111/283)   \rReceiving objects:  40% (114/283)   \rReceiving objects:  41% (117/283)   \rReceiving objects:  42% (119/283)   \rReceiving objects:  43% (122/283)   \rReceiving objects:  44% (125/283)   \rReceiving objects:  45% (128/283)   \rReceiving objects:  46% (131/283)   \rReceiving objects:  47% (134/283)   \rReceiving objects:  48% (136/283)   \rReceiving objects:  49% (139/283)   \rReceiving objects:  50% (142/283)   \rReceiving objects:  51% (145/283)   \rReceiving objects:  52% (148/283)   \rReceiving objects:  53% (150/283)   \rremote: Total 283 (delta 25), reused 271 (delta 21), pack-reused 0\u001b[K\n",
            "Receiving objects:  54% (153/283)   \rReceiving objects:  55% (156/283)   \rReceiving objects:  56% (159/283)   \rReceiving objects:  57% (162/283)   \rReceiving objects:  58% (165/283)   \rReceiving objects:  59% (167/283)   \rReceiving objects:  60% (170/283)   \rReceiving objects:  61% (173/283)   \rReceiving objects:  62% (176/283)   \rReceiving objects:  63% (179/283)   \rReceiving objects:  64% (182/283)   \rReceiving objects:  65% (184/283)   \rReceiving objects:  66% (187/283)   \rReceiving objects:  67% (190/283)   \rReceiving objects:  68% (193/283)   \rReceiving objects:  69% (196/283)   \rReceiving objects:  70% (199/283)   \rReceiving objects:  71% (201/283)   \rReceiving objects:  72% (204/283)   \rReceiving objects:  73% (207/283)   \rReceiving objects:  74% (210/283)   \rReceiving objects:  75% (213/283)   \rReceiving objects:  76% (216/283)   \rReceiving objects:  77% (218/283)   \rReceiving objects:  78% (221/283)   \rReceiving objects:  79% (224/283)   \rReceiving objects:  80% (227/283)   \rReceiving objects:  81% (230/283)   \rReceiving objects:  82% (233/283)   \rReceiving objects:  83% (235/283)   \rReceiving objects:  84% (238/283)   \rReceiving objects:  85% (241/283)   \rReceiving objects:  86% (244/283)   \rReceiving objects:  87% (247/283)   \rReceiving objects:  88% (250/283)   \rReceiving objects:  89% (252/283)   \rReceiving objects:  90% (255/283)   \rReceiving objects:  91% (258/283)   \rReceiving objects:  92% (261/283)   \rReceiving objects:  93% (264/283)   \rReceiving objects:  94% (267/283)   \rReceiving objects:  95% (269/283)   \rReceiving objects:  96% (272/283)   \rReceiving objects:  97% (275/283)   \rReceiving objects:  98% (278/283)   \rReceiving objects:  99% (281/283)   \rReceiving objects: 100% (283/283)   \rReceiving objects: 100% (283/283), 91.97 KiB | 7.66 MiB/s, done.\n",
            "Resolving deltas:   0% (0/25)   \rResolving deltas:   4% (1/25)   \rResolving deltas:   8% (2/25)   \rResolving deltas:  12% (3/25)   \rResolving deltas:  20% (5/25)   \rResolving deltas:  24% (6/25)   \rResolving deltas:  32% (8/25)   \rResolving deltas:  40% (10/25)   \rResolving deltas:  44% (11/25)   \rResolving deltas:  48% (12/25)   \rResolving deltas:  52% (13/25)   \rResolving deltas:  56% (14/25)   \rResolving deltas:  60% (15/25)   \rResolving deltas:  64% (16/25)   \rResolving deltas:  68% (17/25)   \rResolving deltas:  72% (18/25)   \rResolving deltas:  76% (19/25)   \rResolving deltas:  80% (20/25)   \rResolving deltas:  84% (21/25)   \rResolving deltas:  88% (22/25)   \rResolving deltas:  92% (23/25)   \rResolving deltas:  96% (24/25)   \rResolving deltas: 100% (25/25)   \rResolving deltas: 100% (25/25), done.\n"
          ]
        }
      ]
    },
    {
      "cell_type": "code",
      "metadata": {
        "id": "79Beo91zpT9A"
      },
      "source": [
        "import re"
      ],
      "execution_count": null,
      "outputs": []
    },
    {
      "cell_type": "code",
      "metadata": {
        "id": "a16dtcO8pWWN"
      },
      "source": [
        "\"\"\"\n",
        "path_to_folder should include slashes.\n",
        "For sentence file each sentence should be on a new line. \n",
        "For names file each name should be on a new line. Make sure there is no duplicate name in the file.\n",
        "\"\"\"\n",
        "\n",
        "path_to_folder = \"/content/\"\n",
        "corpus_path = \"/content/ml-bias-identification/src/resources/corpus/beauty.tsv\"\n",
        "lexicon_path = \"/content/ml-bias-identification/src/resources/lexicons/beauty.tsv\"\n",
        "\n",
        "with open (lexicon_path, 'r') as open_lexicon:\n",
        "    entities = open_lexicon.readlines()\n",
        "    entities = [line.rstrip().lower() for line in entities]\n",
        "\n",
        "with open(corpus_path, 'r') as open_corpus:\n",
        "    corpus = open_corpus.readlines()\n",
        "    corpus = [line.rstrip().lower() for line in corpus]\n",
        "\n"
      ],
      "execution_count": null,
      "outputs": []
    },
    {
      "cell_type": "code",
      "metadata": {
        "id": "TGg1JY5gmmkO"
      },
      "source": [
        "def identifySentences(corpus, lexicon):\n",
        "  '''Identify relevant sentences from the corpus based on matching lexical entries'''\n",
        "  for sentence in corpus:\n",
        "    for entity in lexicon:\n",
        "      if entity in sentence:\n",
        "        yield sentence\n",
        "\n",
        "\n",
        "def generateTemplates(selected_sentences, lexicon):\n",
        "  '''Generate templates from selected sentences'''\n",
        "  for sentence in selected_sentences:\n",
        "    for entity in lexicon:\n",
        "      pattern = re.compile(entity)\n",
        "      new_template = pattern.sub('<entity>', sentence)\n",
        "      if '<entity>' in new_template:\n",
        "        yield new_template\n",
        "\n",
        "\n",
        "def generateTestSets(templates, lexicon):\n",
        "  '''Generate templates with a combination of templates and entities in lexicon'''\n",
        "  for template in templates:\n",
        "    for entity in lexicon:\n",
        "      pattern = re.compile('<entity>')\n",
        "      new_test_set = pattern.sub(entity, template)\n",
        "      yield new_test_set"
      ],
      "execution_count": null,
      "outputs": []
    },
    {
      "cell_type": "code",
      "metadata": {
        "id": "yZtmcujNs-2s"
      },
      "source": [
        "selected_sentences = identifySentences(corpus, entities)\n",
        "templates = generateTemplates(selected_sentences, entities)\n",
        "testsets = generateTestSets(templates, entities)\n",
        "\n",
        "with open (path_to_folder+\"master_test_set.tsv\",\"a\") as test_set:\n",
        "  for test in testsets:\n",
        "    test_set.write(test + \"\\n\")\n",
        "\n",
        "selected_sentences = identifySentences(corpus, entities)\n",
        "templates = generateTemplates(selected_sentences, entities)\n",
        "with open (path_to_folder+\"template_set.tsv\",\"a\") as template_set:\n",
        "  for template in templates:\n",
        "    template_set.write(template + \"\\n\")\n",
        "\n",
        "selected_sentences = identifySentences(corpus, entities)\n",
        "with open (path_to_folder+\"sentence_set.tsv\",\"a\") as sentence_set:\n",
        "  for sentence in selected_sentences:\n",
        "    sentence_set.write(sentence + \"\\n\")"
      ],
      "execution_count": null,
      "outputs": []
    }
  ]
}